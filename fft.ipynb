{
  "nbformat": 4,
  "nbformat_minor": 0,
  "metadata": {
    "colab": {
      "name": "fft.ipynb",
      "provenance": [],
      "collapsed_sections": []
    },
    "kernelspec": {
      "name": "python3",
      "display_name": "Python 3"
    },
    "language_info": {
      "name": "python"
    }
  },
  "cells": [
    {
      "cell_type": "code",
      "metadata": {
        "id": "7uRybk_90HRh"
      },
      "source": [
        "import numpy as np"
      ],
      "execution_count": 1,
      "outputs": []
    },
    {
      "cell_type": "code",
      "metadata": {
        "id": "07j7ldPP0XMH"
      },
      "source": [
        "# method from:\n",
        "# https://towardsdatascience.com/fast-fourier-transform-937926e591cb\n",
        "def dft(x):\n",
        "    x = np.asarray(x, dtype=float)\n",
        "    N = x.shape[0]\n",
        "    n = np.arange(N)\n",
        "    k = n.reshape((N, 1))\n",
        "    M = np.exp(-2j * np.pi * k * n / N)\n",
        "    return np.dot(M, x)"
      ],
      "execution_count": 2,
      "outputs": []
    },
    {
      "cell_type": "code",
      "metadata": {
        "id": "F-y8Uh0w0ZYf"
      },
      "source": [
        "# method from:\n",
        "# https://towardsdatascience.com/fast-fourier-transform-937926e591cb\n",
        "def fft(x):\n",
        "    x = np.asarray(x, dtype=float)\n",
        "    N = x.shape[0]\n",
        "    if N % 2 > 0:\n",
        "        raise ValueError(\"must be a power of 2\")\n",
        "    elif N <= 2:\n",
        "        return dft(x)\n",
        "    else:\n",
        "        X_even = fft(x[::2])\n",
        "        X_odd = fft(x[1::2])\n",
        "        terms = np.exp(-2j * np.pi * np.arange(N) / N)\n",
        "        return np.concatenate([X_even + terms[:int(N/2)] * X_odd,\n",
        "                               X_even + terms[int(N/2):] * X_odd])"
      ],
      "execution_count": 3,
      "outputs": []
    },
    {
      "cell_type": "code",
      "metadata": {
        "id": "waYWoz-10bpl"
      },
      "source": [
        "# adapted method\n",
        "def discrete_fourier_transform(x):\n",
        "    # easier to transfer to C/C++\n",
        "    x = np.asarray(x, dtype=float)\n",
        "    N = len(x)\n",
        "    x_result = np.zeros(N, dtype='complex_')\n",
        "    for k in range(N):\n",
        "        for n in range(N):\n",
        "            x_result[k] += x[n]*np.exp(-2j * np.pi * k * n / N)\n",
        "    return x_result"
      ],
      "execution_count": 4,
      "outputs": []
    },
    {
      "cell_type": "code",
      "metadata": {
        "id": "58d5qdsK0dmt"
      },
      "source": [
        "# adapted method\n",
        "def fast_fourier_transform(x):\n",
        "    # easier to transfer to C/C++\n",
        "    x = np.asarray(x, dtype=float)\n",
        "    N = len(x)\n",
        "    if N % 2 > 0:\n",
        "        raise ValueError(\"must be a power of 2\")\n",
        "    elif N <= 2:\n",
        "        return discrete_fourier_transform(x)\n",
        "    else:\n",
        "        x_result = np.empty(N, dtype='complex_')\n",
        "        x_even = fast_fourier_transform(x[0::2])\n",
        "        x_odd = fast_fourier_transform(x[1::2])\n",
        "        # prob. just a ridiculous micro optimization\n",
        "        for k in range(0, int(N/2)):\n",
        "            x_result[k] = x_even[k] + (x_odd[k] * np.exp(-2j * np.pi * k / N))\n",
        "            # another ridiculous micro optimization\n",
        "            k2 = int(k + N/2)\n",
        "            x_result[k2] = x_even[k] + (\n",
        "                x_odd[k] * np.exp(-2j * np.pi * k2 / N)\n",
        "            )\n",
        "        return x_result"
      ],
      "execution_count": 5,
      "outputs": []
    },
    {
      "cell_type": "markdown",
      "metadata": {
        "id": "C64-qqYG05Of"
      },
      "source": [
        "make sure every function outputs about the same thing"
      ]
    },
    {
      "cell_type": "code",
      "metadata": {
        "id": "eZhvUq2O0fWV"
      },
      "source": [
        "x = np.random.random(1024)"
      ],
      "execution_count": 6,
      "outputs": []
    },
    {
      "cell_type": "code",
      "metadata": {
        "colab": {
          "base_uri": "https://localhost:8080/"
        },
        "id": "d56n4Fay0pXs",
        "outputId": "fbb9e910-3234-47d6-9876-b7dff94c3737"
      },
      "source": [
        "a = dft(x)\n",
        "b = discrete_fourier_transform(x)\n",
        "np.allclose(a, b)"
      ],
      "execution_count": 7,
      "outputs": [
        {
          "output_type": "execute_result",
          "data": {
            "text/plain": [
              "True"
            ]
          },
          "metadata": {
            "tags": []
          },
          "execution_count": 7
        }
      ]
    },
    {
      "cell_type": "code",
      "metadata": {
        "colab": {
          "base_uri": "https://localhost:8080/"
        },
        "id": "L3ryb6f00sLn",
        "outputId": "196ea16c-cc90-4ab0-d589-c507c049f1ce"
      },
      "source": [
        "c = fft(x)\n",
        "np.allclose(a, c)"
      ],
      "execution_count": 8,
      "outputs": [
        {
          "output_type": "execute_result",
          "data": {
            "text/plain": [
              "True"
            ]
          },
          "metadata": {
            "tags": []
          },
          "execution_count": 8
        }
      ]
    },
    {
      "cell_type": "code",
      "metadata": {
        "colab": {
          "base_uri": "https://localhost:8080/"
        },
        "id": "Y_Yc0aW20tV5",
        "outputId": "a4d34a00-1695-45b1-d131-1eb4dfe25a28"
      },
      "source": [
        "d = fast_fourier_transform(x)\n",
        "np.allclose(a, d)"
      ],
      "execution_count": 9,
      "outputs": [
        {
          "output_type": "execute_result",
          "data": {
            "text/plain": [
              "True"
            ]
          },
          "metadata": {
            "tags": []
          },
          "execution_count": 9
        }
      ]
    },
    {
      "cell_type": "code",
      "metadata": {
        "colab": {
          "base_uri": "https://localhost:8080/"
        },
        "id": "raWMvYSE0uys",
        "outputId": "47deb5e2-e610-46b5-93f0-8b5a91884b00"
      },
      "source": [
        "e = np.fft.fft(x)\n",
        "np.allclose(a, e)"
      ],
      "execution_count": 10,
      "outputs": [
        {
          "output_type": "execute_result",
          "data": {
            "text/plain": [
              "True"
            ]
          },
          "metadata": {
            "tags": []
          },
          "execution_count": 10
        }
      ]
    },
    {
      "cell_type": "markdown",
      "metadata": {
        "id": "ahvXm5Rv79sB"
      },
      "source": [
        "benchmarking machine"
      ]
    },
    {
      "cell_type": "code",
      "metadata": {
        "colab": {
          "base_uri": "https://localhost:8080/"
        },
        "id": "5dgJ6ory1XEX",
        "outputId": "2155e636-2a91-4947-b56d-5c2ef4339885"
      },
      "source": [
        "!lscpu"
      ],
      "execution_count": 18,
      "outputs": [
        {
          "output_type": "stream",
          "text": [
            "Architecture:        x86_64\n",
            "CPU op-mode(s):      32-bit, 64-bit\n",
            "Byte Order:          Little Endian\n",
            "CPU(s):              2\n",
            "On-line CPU(s) list: 0,1\n",
            "Thread(s) per core:  2\n",
            "Core(s) per socket:  1\n",
            "Socket(s):           1\n",
            "NUMA node(s):        1\n",
            "Vendor ID:           GenuineIntel\n",
            "CPU family:          6\n",
            "Model:               63\n",
            "Model name:          Intel(R) Xeon(R) CPU @ 2.30GHz\n",
            "Stepping:            0\n",
            "CPU MHz:             2299.998\n",
            "BogoMIPS:            4599.99\n",
            "Hypervisor vendor:   KVM\n",
            "Virtualization type: full\n",
            "L1d cache:           32K\n",
            "L1i cache:           32K\n",
            "L2 cache:            256K\n",
            "L3 cache:            46080K\n",
            "NUMA node0 CPU(s):   0,1\n",
            "Flags:               fpu vme de pse tsc msr pae mce cx8 apic sep mtrr pge mca cmov pat pse36 clflush mmx fxsr sse sse2 ss ht syscall nx pdpe1gb rdtscp lm constant_tsc rep_good nopl xtopology nonstop_tsc cpuid tsc_known_freq pni pclmulqdq ssse3 fma cx16 pcid sse4_1 sse4_2 x2apic movbe popcnt aes xsave avx f16c rdrand hypervisor lahf_lm abm invpcid_single ssbd ibrs ibpb stibp fsgsbase tsc_adjust bmi1 avx2 smep bmi2 erms invpcid xsaveopt arat md_clear arch_capabilities\n"
          ],
          "name": "stdout"
        }
      ]
    },
    {
      "cell_type": "code",
      "metadata": {
        "colab": {
          "base_uri": "https://localhost:8080/"
        },
        "id": "KWNiMzeL1pr9",
        "outputId": "6c1da786-eca2-4b61-909b-3dcd92e8d4fa"
      },
      "source": [
        "!free -h"
      ],
      "execution_count": 19,
      "outputs": [
        {
          "output_type": "stream",
          "text": [
            "              total        used        free      shared  buff/cache   available\n",
            "Mem:            12G        588M         10G        984K        1.9G         11G\n",
            "Swap:            0B          0B          0B\n"
          ],
          "name": "stdout"
        }
      ]
    },
    {
      "cell_type": "markdown",
      "metadata": {
        "id": "psnU9YWl1A_F"
      },
      "source": [
        "benchmarking 1"
      ]
    },
    {
      "cell_type": "code",
      "metadata": {
        "id": "bTFxmTOC2c9Q"
      },
      "source": [
        "x = np.random.random(1024)"
      ],
      "execution_count": null,
      "outputs": []
    },
    {
      "cell_type": "code",
      "metadata": {
        "colab": {
          "base_uri": "https://localhost:8080/"
        },
        "id": "sbBE1mjr0vnR",
        "outputId": "b66b2a4a-8364-48df-90fe-125cfa7dadbf"
      },
      "source": [
        "%%timeit -n 10\n",
        "a = dft(x)"
      ],
      "execution_count": 13,
      "outputs": [
        {
          "output_type": "stream",
          "text": [
            "10 loops, best of 5: 123 ms per loop\n"
          ],
          "name": "stdout"
        }
      ]
    },
    {
      "cell_type": "code",
      "metadata": {
        "colab": {
          "base_uri": "https://localhost:8080/"
        },
        "id": "-pv3IeVS1RHt",
        "outputId": "e0f44ab2-c546-4167-c34a-97a3ca8147b4"
      },
      "source": [
        "%%timeit -n 10\n",
        "b = discrete_fourier_transform(x)"
      ],
      "execution_count": 14,
      "outputs": [
        {
          "output_type": "stream",
          "text": [
            "10 loops, best of 5: 4.9 s per loop\n"
          ],
          "name": "stdout"
        }
      ]
    },
    {
      "cell_type": "code",
      "metadata": {
        "colab": {
          "base_uri": "https://localhost:8080/"
        },
        "id": "WV_RVUZt1RHu",
        "outputId": "c868c96d-0adc-4b6e-ba07-073229fe8863"
      },
      "source": [
        "%%timeit -n 10\n",
        "c = fft(x)"
      ],
      "execution_count": 15,
      "outputs": [
        {
          "output_type": "stream",
          "text": [
            "10 loops, best of 5: 14.8 ms per loop\n"
          ],
          "name": "stdout"
        }
      ]
    },
    {
      "cell_type": "code",
      "metadata": {
        "colab": {
          "base_uri": "https://localhost:8080/"
        },
        "id": "al2QgVPf1RHv",
        "outputId": "c8e1ea3d-8e1c-4fd3-87f5-a5cdf0378663"
      },
      "source": [
        "%%timeit -n 10\n",
        "d = fast_fourier_transform(x)"
      ],
      "execution_count": 16,
      "outputs": [
        {
          "output_type": "stream",
          "text": [
            "10 loops, best of 5: 36.5 ms per loop\n"
          ],
          "name": "stdout"
        }
      ]
    },
    {
      "cell_type": "code",
      "metadata": {
        "colab": {
          "base_uri": "https://localhost:8080/"
        },
        "id": "-atyYPJU1RHv",
        "outputId": "ab579bbb-2c8b-4564-f4e8-a7c0e8c8ddc3"
      },
      "source": [
        "%%timeit -n 10\n",
        "e = np.fft.fft(x)"
      ],
      "execution_count": 17,
      "outputs": [
        {
          "output_type": "stream",
          "text": [
            "10 loops, best of 5: 27.1 µs per loop\n"
          ],
          "name": "stdout"
        }
      ]
    },
    {
      "cell_type": "markdown",
      "metadata": {
        "id": "hCEhhvO72jkw"
      },
      "source": [
        "benchmarking 2"
      ]
    },
    {
      "cell_type": "code",
      "metadata": {
        "id": "W7k0wGTL9JU3"
      },
      "source": [
        "N = [4, 8, 16, 32, 64, 128, 256, 512, 1024, 2048]"
      ],
      "execution_count": 73,
      "outputs": []
    },
    {
      "cell_type": "code",
      "metadata": {
        "id": "f0xO2nbY2iRM"
      },
      "source": [
        "X = [np.random.random(n) for n in N]"
      ],
      "execution_count": 20,
      "outputs": []
    },
    {
      "cell_type": "code",
      "metadata": {
        "id": "HJ_Y4x-x3kMb"
      },
      "source": [
        "import time\n",
        "\n",
        "def benchmark(fft_func, X):\n",
        "    total_time_list = []\n",
        "    for x in X:\n",
        "        start_time = time.time()\n",
        "        y = fft_func(x)\n",
        "        total_time = time.time() - start_time\n",
        "        total_time_list.append(total_time)\n",
        "    return total_time_list"
      ],
      "execution_count": 27,
      "outputs": []
    },
    {
      "cell_type": "code",
      "metadata": {
        "id": "cM7XuQVx5DoZ"
      },
      "source": [
        "import matplotlib.pyplot as plt\n",
        "from functools import partial"
      ],
      "execution_count": 64,
      "outputs": []
    },
    {
      "cell_type": "code",
      "metadata": {
        "id": "rt-cUQjM7DhU"
      },
      "source": [
        "benchmark = partial(benchmark, X=X)"
      ],
      "execution_count": 65,
      "outputs": []
    },
    {
      "cell_type": "code",
      "metadata": {
        "id": "O7gaWql_7sHe"
      },
      "source": [
        "plot_y_list = []"
      ],
      "execution_count": 67,
      "outputs": []
    },
    {
      "cell_type": "code",
      "metadata": {
        "colab": {
          "base_uri": "https://localhost:8080/",
          "height": 265
        },
        "id": "uGhI8wMO4mJG",
        "outputId": "a88fd9de-1d1f-4ee3-8007-b02cec7796cc"
      },
      "source": [
        "benchmark = partial(benchmark, fft_func=dft)\n",
        "\n",
        "plot_y = np.array([benchmark() for _ in range(100)]).sum(axis=0)\n",
        "plot_y_list.append(plot_y)\n",
        "plot_x = list(range(len(plot_y)))\n",
        "plt.plot(plot_x, plot_y)\n",
        "plt.show()"
      ],
      "execution_count": 68,
      "outputs": [
        {
          "output_type": "display_data",
          "data": {
            "image/png": "[encoded data removed]",
            "text/plain": [
              "<Figure size 432x288 with 1 Axes>"
            ]
          },
          "metadata": {
            "tags": [],
            "needs_background": "light"
          }
        }
      ]
    },
    {
      "cell_type": "code",
      "metadata": {
        "colab": {
          "base_uri": "https://localhost:8080/",
          "height": 265
        },
        "id": "k6DD2B6B4mJW",
        "outputId": "88fa65e3-493d-406b-d218-f0f9d40fc4e9"
      },
      "source": [
        "benchmark = partial(benchmark, fft_func=discrete_fourier_transform)\n",
        "\n",
        "plot_y = np.array([benchmark() for _ in range(10)]).sum(axis=0)\n",
        "plot_y_list.append(plot_y)\n",
        "plot_x = list(range(len(plot_y)))\n",
        "plt.plot(plot_x, plot_y)\n",
        "plt.show()"
      ],
      "execution_count": 69,
      "outputs": [
        {
          "output_type": "display_data",
          "data": {
            "image/png": "[encoded data removed]",
            "text/plain": [
              "<Figure size 432x288 with 1 Axes>"
            ]
          },
          "metadata": {
            "tags": [],
            "needs_background": "light"
          }
        }
      ]
    },
    {
      "cell_type": "code",
      "metadata": {
        "colab": {
          "base_uri": "https://localhost:8080/",
          "height": 265
        },
        "id": "LpE5vaxB4mJX",
        "outputId": "a1584df1-892e-4918-d117-6e396383555b"
      },
      "source": [
        "benchmark = partial(benchmark, fft_func=fft)\n",
        "\n",
        "plot_y = np.array([benchmark() for _ in range(1000)]).sum(axis=0)\n",
        "plot_y_list.append(plot_y)\n",
        "plot_x = list(range(len(plot_y)))\n",
        "plt.plot(plot_x, plot_y)\n",
        "plt.show()"
      ],
      "execution_count": 70,
      "outputs": [
        {
          "output_type": "display_data",
          "data": {
            "image/png": "[encoded data removed]",
            "text/plain": [
              "<Figure size 432x288 with 1 Axes>"
            ]
          },
          "metadata": {
            "tags": [],
            "needs_background": "light"
          }
        }
      ]
    },
    {
      "cell_type": "code",
      "metadata": {
        "colab": {
          "base_uri": "https://localhost:8080/",
          "height": 265
        },
        "id": "AjvqBNZA4mJY",
        "outputId": "ab7144e5-c746-4abb-a081-35bc0c8e70c5"
      },
      "source": [
        "benchmark = partial(benchmark, fft_func=fast_fourier_transform)\n",
        "\n",
        "plot_y = np.array([benchmark() for _ in range(1000)]).sum(axis=0)\n",
        "plot_y_list.append(plot_y)\n",
        "plot_x = list(range(len(plot_y)))\n",
        "plt.plot(plot_x, plot_y)\n",
        "plt.show()"
      ],
      "execution_count": 71,
      "outputs": [
        {
          "output_type": "display_data",
          "data": {
            "image/png": "[encoded data removed]",
            "text/plain": [
              "<Figure size 432x288 with 1 Axes>"
            ]
          },
          "metadata": {
            "tags": [],
            "needs_background": "light"
          }
        }
      ]
    },
    {
      "cell_type": "code",
      "metadata": {
        "colab": {
          "base_uri": "https://localhost:8080/",
          "height": 265
        },
        "id": "FRSG_dxQ4ooz",
        "outputId": "ad72a99f-1c7b-4ed9-c733-06a97f80a87c"
      },
      "source": [
        "benchmark = partial(benchmark, fft_func=np.fft.fft)\n",
        "\n",
        "plot_y = np.array([benchmark() for _ in range(1000)]).sum(axis=0)\n",
        "plot_y_list.append(plot_y)\n",
        "plot_x = list(range(len(plot_y)))\n",
        "plt.plot(plot_x, plot_y)\n",
        "plt.show()"
      ],
      "execution_count": 72,
      "outputs": [
        {
          "output_type": "display_data",
          "data": {
            "image/png": "[encoded data removed]",
            "text/plain": [
              "<Figure size 432x288 with 1 Axes>"
            ]
          },
          "metadata": {
            "tags": [],
            "needs_background": "light"
          }
        }
      ]
    },
    {
      "cell_type": "code",
      "metadata": {
        "colab": {
          "base_uri": "https://localhost:8080/",
          "height": 279
        },
        "id": "bwyTclyl4Msz",
        "outputId": "dc64d0dd-5bba-42b6-f92d-664fbd9efb7e"
      },
      "source": [
        "plt.plot(N, plot_y_list[0], label=\"dft\")\n",
        "plt.plot(N, plot_y_list[1], label=\"discrete_fourier_transform\")\n",
        "plt.plot(N, plot_y_list[2], label=\"fft\")\n",
        "plt.plot(N, plot_y_list[3], label=\"fast_fourier_transform\")\n",
        "plt.plot(N, plot_y_list[4], label=\"np.fft.fft\")\n",
        "plt.xlabel('vector lengths')\n",
        "# Set the y axis label of the current axis.\n",
        "plt.ylabel('time')\n",
        "# show a legend on the plot\n",
        "plt.legend()\n",
        "# Display a figure.\n",
        "plt.show()"
      ],
      "execution_count": 74,
      "outputs": [
        {
          "output_type": "display_data",
          "data": {
            "image/png": "[encoded data removed]",
            "text/plain": [
              "<Figure size 432x288 with 1 Axes>"
            ]
          },
          "metadata": {
            "tags": [],
            "needs_background": "light"
          }
        }
      ]
    },
    {
      "cell_type": "code",
      "metadata": {
        "id": "m6ktxnn99HfR"
      },
      "source": [
        ""
      ],
      "execution_count": null,
      "outputs": []
    }
  ]
}